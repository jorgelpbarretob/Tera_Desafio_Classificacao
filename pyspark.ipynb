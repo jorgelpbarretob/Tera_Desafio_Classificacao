{
 "cells": [
  {
   "cell_type": "markdown",
   "metadata": {},
   "source": [
    "# Usando o Spark para fazer um breve EDA e depois fazer um Undersampling"
   ]
  },
  {
   "cell_type": "markdown",
   "metadata": {},
   "source": [
    "- Chamando o PySpark e criando uma sessão"
   ]
  },
  {
   "cell_type": "code",
   "execution_count": 2,
   "metadata": {},
   "outputs": [],
   "source": [
    "import warnings\n",
    "warnings.filterwarnings('ignore')\n",
    "\n",
    "from pyspark.sql import SparkSession\n",
    "\n",
    "spark = SparkSession.builder.appName(\"MyApp\").getOrCreate()"
   ]
  },
  {
   "cell_type": "markdown",
   "metadata": {},
   "source": [
    "- Lendo o dataset utilizando o spark"
   ]
  },
  {
   "cell_type": "code",
   "execution_count": 3,
   "metadata": {},
   "outputs": [
    {
     "name": "stderr",
     "output_type": "stream",
     "text": [
      "                                                                                \r"
     ]
    },
    {
     "name": "stdout",
     "output_type": "stream",
     "text": [
      "+----+--------+--------+-----------+-------------+--------------+-----------+--------------+--------------+-------+--------------+\n",
      "|step|    type|  amount|   nameOrig|oldbalanceOrg|newbalanceOrig|   nameDest|oldbalanceDest|newbalanceDest|isFraud|isFlaggedFraud|\n",
      "+----+--------+--------+-----------+-------------+--------------+-----------+--------------+--------------+-------+--------------+\n",
      "|   1| PAYMENT| 9839.64|C1231006815|     170136.0|     160296.36|M1979787155|           0.0|           0.0|      0|             0|\n",
      "|   1| PAYMENT| 1864.28|C1666544295|      21249.0|      19384.72|M2044282225|           0.0|           0.0|      0|             0|\n",
      "|   1|TRANSFER|   181.0|C1305486145|        181.0|           0.0| C553264065|           0.0|           0.0|      1|             0|\n",
      "|   1|CASH_OUT|   181.0| C840083671|        181.0|           0.0|  C38997010|       21182.0|           0.0|      1|             0|\n",
      "|   1| PAYMENT|11668.14|C2048537720|      41554.0|      29885.86|M1230701703|           0.0|           0.0|      0|             0|\n",
      "+----+--------+--------+-----------+-------------+--------------+-----------+--------------+--------------+-------+--------------+\n",
      "only showing top 5 rows\n",
      "\n"
     ]
    }
   ],
   "source": [
    "path = '1. Dados/fraud_detection_dataset.csv'\n",
    "\n",
    "df = spark.read.csv(path,\n",
    "                    inferSchema=\"true\", #spark precisa disso para ler os tipos dos dados\n",
    "                    header=True #spark precisa disso para ler o nome das colunas\n",
    "                   ) \n",
    "df.show(5)"
   ]
  },
  {
   "cell_type": "markdown",
   "metadata": {},
   "source": [
    "- Analisando o tipo dos dados e quantidade de nulos, similar ao pandas.info("
   ]
  },
  {
   "cell_type": "code",
   "execution_count": 3,
   "metadata": {},
   "outputs": [
    {
     "name": "stdout",
     "output_type": "stream",
     "text": [
      "root\n",
      " |-- step: integer (nullable = true)\n",
      " |-- type: string (nullable = true)\n",
      " |-- amount: double (nullable = true)\n",
      " |-- nameOrig: string (nullable = true)\n",
      " |-- oldbalanceOrg: double (nullable = true)\n",
      " |-- newbalanceOrig: double (nullable = true)\n",
      " |-- nameDest: string (nullable = true)\n",
      " |-- oldbalanceDest: double (nullable = true)\n",
      " |-- newbalanceDest: double (nullable = true)\n",
      " |-- isFraud: integer (nullable = true)\n",
      " |-- isFlaggedFraud: integer (nullable = true)\n",
      "\n"
     ]
    }
   ],
   "source": [
    "df.printSchema()"
   ]
  },
  {
   "cell_type": "markdown",
   "metadata": {},
   "source": [
    "- Similar ao pandas.describe()"
   ]
  },
  {
   "cell_type": "code",
   "execution_count": 4,
   "metadata": {},
   "outputs": [
    {
     "name": "stderr",
     "output_type": "stream",
     "text": [
      "[Stage 4:>                                                          (0 + 1) / 1]\r"
     ]
    },
    {
     "name": "stdout",
     "output_type": "stream",
     "text": [
      "+-------+------------------+--------+------------------+-----------+------------------+-----------------+-----------+------------------+------------------+--------------------+--------------------+\n",
      "|summary|              step|    type|            amount|   nameOrig|     oldbalanceOrg|   newbalanceOrig|   nameDest|    oldbalanceDest|    newbalanceDest|             isFraud|      isFlaggedFraud|\n",
      "+-------+------------------+--------+------------------+-----------+------------------+-----------------+-----------+------------------+------------------+--------------------+--------------------+\n",
      "|  count|           6362620| 6362620|           6362620|    6362620|           6362620|          6362620|    6362620|           6362620|           6362620|             6362620|             6362620|\n",
      "|   mean|243.39724563151657|    null|179861.90354913048|       null| 833883.1040744851|855113.6685785787|       null|1100701.6665196505|1224996.3982019336|0.001290820448180152| 2.51468734577894E-6|\n",
      "| stddev| 142.3319710491305|    null| 603858.2314629437|       null|2888242.6730375397|2924048.502954241|       null|3399180.1129944543|3674128.9421196654| 0.03590479680160438|0.001585774705736...|\n",
      "|    min|                 1| CASH_IN|               0.0|C1000000639|               0.0|              0.0|C1000004082|               0.0|               0.0|                   0|                   0|\n",
      "|    25%|               156|    null|          13390.35|       null|               0.0|              0.0|       null|               0.0|               0.0|                   0|                   0|\n",
      "|    50%|               239|    null|          74864.38|       null|          14211.23|              0.0|       null|         132623.66|         214605.81|                   0|                   0|\n",
      "|    75%|               335|    null|         208722.05|       null|          107294.0|        144232.62|       null|         942942.08|        1111684.56|                   0|                   0|\n",
      "|    max|               743|TRANSFER|     9.244551664E7| C999999784|     5.958504037E7|    4.958504037E7| M999999784|    3.5601588935E8|    3.5617927892E8|                   1|                   1|\n",
      "+-------+------------------+--------+------------------+-----------+------------------+-----------------+-----------+------------------+------------------+--------------------+--------------------+\n",
      "\n"
     ]
    },
    {
     "name": "stderr",
     "output_type": "stream",
     "text": [
      "                                                                                \r"
     ]
    }
   ],
   "source": [
    "df.summary().show()"
   ]
  },
  {
   "cell_type": "markdown",
   "metadata": {},
   "source": [
    "- Agrupando por isFraud para ver os dados"
   ]
  },
  {
   "cell_type": "code",
   "execution_count": 4,
   "metadata": {},
   "outputs": [
    {
     "name": "stderr",
     "output_type": "stream",
     "text": [
      "                                                                                \r"
     ]
    },
    {
     "name": "stdout",
     "output_type": "stream",
     "text": [
      "+-------+------------------+------------------+------------------+-------------------+-------------------+-------------------+------------+--------------------+\n",
      "|isFraud|         avg(step)|       avg(amount)|avg(oldbalanceOrg)|avg(newbalanceOrig)|avg(oldbalanceDest)|avg(newbalanceDest)|avg(isFraud)| avg(isFlaggedFraud)|\n",
      "+-------+------------------+------------------+------------------+-------------------+-------------------+-------------------+------------+--------------------+\n",
      "|      1| 368.4138560818215|1467967.2991403877|1649667.6057116778| 192392.63183611355|  544249.6190746377| 1279707.6171459886|         1.0|0.001948131011810...|\n",
      "|      0|243.23566306029815| 178197.0417274069| 832828.7117272614|  855970.2281088016| 1101420.8745693814| 1224925.6845631644|         0.0|                 0.0|\n",
      "+-------+------------------+------------------+------------------+-------------------+-------------------+-------------------+------------+--------------------+\n",
      "\n"
     ]
    }
   ],
   "source": [
    "df.groupBy('isFraud').avg().show()"
   ]
  },
  {
   "cell_type": "markdown",
   "metadata": {},
   "source": [
    "- contabilizando o ratio entre isFraud = 0 e isFraud = 1 para iniciar o Undersampling "
   ]
  },
  {
   "cell_type": "code",
   "execution_count": 20,
   "metadata": {},
   "outputs": [
    {
     "name": "stderr",
     "output_type": "stream",
     "text": [
      "[Stage 39:>                                                         (0 + 8) / 8]\r"
     ]
    },
    {
     "name": "stdout",
     "output_type": "stream",
     "text": [
      "ratio: 773\n"
     ]
    },
    {
     "name": "stderr",
     "output_type": "stream",
     "text": [
      "                                                                                \r"
     ]
    }
   ],
   "source": [
    "major_df = df.filter(\"isFraud==0\")\n",
    "minor_df = df.filter(\"isFraud== 1\")\n",
    "ratio = int(major_df.count()/minor_df.count())\n",
    "print(\"ratio: {}\".format(ratio))"
   ]
  },
  {
   "cell_type": "markdown",
   "metadata": {},
   "source": [
    "- Criando um dataset com fraudes 50% positivas e 50% negativas"
   ]
  },
  {
   "cell_type": "code",
   "execution_count": 21,
   "metadata": {},
   "outputs": [
    {
     "name": "stdout",
     "output_type": "stream",
     "text": [
      "+----+--------+---------+-----------+-------------+--------------+-----------+--------------+--------------+-------+--------------+\n",
      "|step|    type|   amount|   nameOrig|oldbalanceOrg|newbalanceOrig|   nameDest|oldbalanceDest|newbalanceDest|isFraud|isFlaggedFraud|\n",
      "+----+--------+---------+-----------+-------------+--------------+-----------+--------------+--------------+-------+--------------+\n",
      "|   1| CASH_IN| 62871.06| C735228558|   8367720.25|     8430591.3| C716157500|     177707.91|       4894.45|      0|             0|\n",
      "|   1| CASH_IN|217668.38| C662925691|   1252326.68|    1469995.06| C476800120|     347373.26|      49864.36|      0|             0|\n",
      "|   1|TRANSFER| 127920.4| C557197074|          0.0|           0.0| C977993101|     330781.11|     965870.05|      0|             0|\n",
      "|   1| PAYMENT|  6433.58|C1831875736|    122027.28|      115593.7|M1806121021|           0.0|           0.0|      0|             0|\n",
      "|   2|TRANSFER|308871.37|C1074976188|      31486.0|           0.0|C1850042097|           0.0|     308871.37|      0|             0|\n",
      "|   2| PAYMENT|    764.8| C692763171|      50823.0|       50058.2|M1771084820|           0.0|           0.0|      0|             0|\n",
      "|   4| PAYMENT|   354.75|C1079152956|     105744.0|     105389.25| M161237395|           0.0|           0.0|      0|             0|\n",
      "|   5|   DEBIT|   858.71| C287609100|     153252.0|     152393.29| C740950652|      44255.66|      45114.36|      0|             0|\n",
      "|   6| PAYMENT|  9352.62|C1921417851|      20588.0|      11235.38| M500580931|           0.0|           0.0|      0|             0|\n",
      "|   6| PAYMENT|  9598.37|C1391240208|          0.0|           0.0| M104664717|           0.0|           0.0|      0|             0|\n",
      "|   7| CASH_IN|111430.78|C1794843661|    8326779.2|    8438209.98|  C54617902|     115108.49|       3677.71|      0|             0|\n",
      "|   7|CASH_OUT| 117635.7|C1968369755|          0.0|           0.0|C1674899618|    6214047.68| 1.000640316E7|      0|             0|\n",
      "|   7|CASH_OUT|444533.15|C2001164060|          0.0|           0.0|  C97730845| 1.414025593E7| 1.465835325E7|      0|             0|\n",
      "|   7|CASH_OUT| 175207.2| C710676827|          0.0|           0.0| C465257140|     414846.27|    1078685.56|      0|             0|\n",
      "|   7|CASH_OUT|347205.56|C1315421994|          0.0|           0.0|C1615804266|     522428.46|    4512194.13|      0|             0|\n",
      "|   7| PAYMENT| 11434.05|C1971433166|      4935.28|           0.0|M1657595584|           0.0|           0.0|      0|             0|\n",
      "|   7| PAYMENT|  3325.33| C274101419|      42198.0|      38872.67|M1951653968|           0.0|           0.0|      0|             0|\n",
      "|   7| PAYMENT|   624.35| C820030112|       7327.0|       6702.65| M423244858|           0.0|           0.0|      0|             0|\n",
      "|   7| PAYMENT|  1385.36| C355429553|          0.0|           0.0|M1488505354|           0.0|           0.0|      0|             0|\n",
      "|   8| PAYMENT|    13.85|C2112021409|      10550.0|      10536.15| M445582107|           0.0|           0.0|      0|             0|\n",
      "+----+--------+---------+-----------+-------------+--------------+-----------+--------------+--------------+-------+--------------+\n",
      "only showing top 20 rows\n",
      "\n"
     ]
    }
   ],
   "source": [
    "sampled_majority_df = major_df.sample(False, 1/ratio)\n",
    "combined_df_2 = sampled_majority_df.unionAll(minor_df)\n",
    "combined_df_2.show()"
   ]
  },
  {
   "cell_type": "markdown",
   "metadata": {},
   "source": [
    "- Visualizando a descrição do novo dataset"
   ]
  },
  {
   "cell_type": "code",
   "execution_count": 22,
   "metadata": {},
   "outputs": [
    {
     "name": "stderr",
     "output_type": "stream",
     "text": [
      "[Stage 42:====================================================>   (15 + 1) / 16]\r"
     ]
    },
    {
     "name": "stdout",
     "output_type": "stream",
     "text": [
      "+-------+------------------+--------+-----------------+-----------+------------------+-----------------+-----------+------------------+------------------+------------------+--------------------+\n",
      "|summary|              step|    type|           amount|   nameOrig|     oldbalanceOrg|   newbalanceOrig|   nameDest|    oldbalanceDest|    newbalanceDest|           isFraud|      isFlaggedFraud|\n",
      "+-------+------------------+--------+-----------------+-----------+------------------+-----------------+-----------+------------------+------------------+------------------+--------------------+\n",
      "|  count|             16322|   16322|            16322|      16322|             16322|            16322|      16322|             16322|             16322|             16322|               16322|\n",
      "|   mean| 305.4622595270188|    null|824582.7800140918|       null| 1247924.033909448|526349.3524653842|       null| 820527.5379775766|  1246544.02767553|0.5031858840828329|9.802720254870727E-4|\n",
      "| stddev|193.67594518965356|    null|1847366.276643301|       null|3284274.9422171963|2541166.302785006|       null|3577980.2268677815|3903080.6959971953|0.5000051671828887|0.031294905262256034|\n",
      "|    min|                 1| CASH_IN|              0.0|C1000036340|               0.0|              0.0|C1000039615|               0.0|               0.0|                 0|                   0|\n",
      "|    25%|               161|    null|         37188.18|       null|           10550.0|              0.0|       null|               0.0|               0.0|                 0|                   0|\n",
      "|    50%|               282|    null|        175267.61|       null|         116977.16|              0.0|       null|               0.0|         122235.11|                 1|                   0|\n",
      "|    75%|               410|    null|         545780.7|       null|          792331.0|              0.0|       null|         493469.12|        1060809.74|                 1|                   0|\n",
      "|    max|               743|TRANSFER|    1.457122494E7| C999959286|     5.958504037E7|    4.958504037E7| M998988388|    2.3623051682E8|    2.3672649466E8|                 1|                   1|\n",
      "+-------+------------------+--------+-----------------+-----------+------------------+-----------------+-----------+------------------+------------------+------------------+--------------------+\n",
      "\n"
     ]
    },
    {
     "name": "stderr",
     "output_type": "stream",
     "text": [
      "                                                                                \r"
     ]
    }
   ],
   "source": [
    "combined_df_2.summary().show()"
   ]
  },
  {
   "cell_type": "markdown",
   "metadata": {},
   "source": [
    "- Criando um novo arquivo .csv com o undersampling dataset"
   ]
  },
  {
   "cell_type": "code",
   "execution_count": 23,
   "metadata": {},
   "outputs": [
    {
     "name": "stderr",
     "output_type": "stream",
     "text": [
      "                                                                                \r"
     ]
    }
   ],
   "source": [
    "combined_df_2.toPandas().to_csv('balanceado.csv')"
   ]
  }
 ],
 "metadata": {
  "interpreter": {
   "hash": "478f9ad761964b2cb5811b9f3c1828b72ba63e04d1d5915e3cc30364ea46a9f4"
  },
  "kernelspec": {
   "display_name": "Python 3 (ipykernel)",
   "language": "python",
   "name": "python3"
  },
  "language_info": {
   "codemirror_mode": {
    "name": "ipython",
    "version": 3
   },
   "file_extension": ".py",
   "mimetype": "text/x-python",
   "name": "python",
   "nbconvert_exporter": "python",
   "pygments_lexer": "ipython3",
   "version": "3.9.7"
  }
 },
 "nbformat": 4,
 "nbformat_minor": 4
}
