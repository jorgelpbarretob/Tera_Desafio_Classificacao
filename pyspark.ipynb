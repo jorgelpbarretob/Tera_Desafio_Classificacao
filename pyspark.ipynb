{
 "cells": [
  {
   "cell_type": "markdown",
   "metadata": {},
   "source": [
    "# Usando o Spark para fazer um breve EDA e depois fazer um Undersampling"
   ]
  },
  {
   "cell_type": "markdown",
   "metadata": {},
   "source": [
    "- Chamando o PySpark e criando uma sessão"
   ]
  },
  {
   "cell_type": "code",
   "execution_count": 1,
   "metadata": {},
   "outputs": [],
   "source": [
    "from pyspark import SparkContext"
   ]
  },
  {
   "cell_type": "code",
   "execution_count": 2,
   "metadata": {},
   "outputs": [
    {
     "name": "stderr",
     "output_type": "stream",
     "text": [
      "WARNING: An illegal reflective access operation has occurred\n",
      "WARNING: Illegal reflective access by org.apache.spark.unsafe.Platform (file:/opt/spark/jars/spark-unsafe_2.12-3.2.1.jar) to constructor java.nio.DirectByteBuffer(long,int)\n",
      "WARNING: Please consider reporting this to the maintainers of org.apache.spark.unsafe.Platform\n",
      "WARNING: Use --illegal-access=warn to enable warnings of further illegal reflective access operations\n",
      "WARNING: All illegal access operations will be denied in a future release\n",
      "Using Spark's default log4j profile: org/apache/spark/log4j-defaults.properties\n",
      "Setting default log level to \"WARN\".\n",
      "To adjust logging level use sc.setLogLevel(newLevel). For SparkR, use setLogLevel(newLevel).\n",
      "22/03/08 20:41:28 WARN NativeCodeLoader: Unable to load native-hadoop library for your platform... using builtin-java classes where applicable\n"
     ]
    }
   ],
   "source": [
    "sc = SparkContext(master='local[2]')"
   ]
  },
  {
   "cell_type": "code",
   "execution_count": 5,
   "metadata": {},
   "outputs": [
    {
     "data": {
      "text/html": [
       "\n",
       "        <div>\n",
       "            <p><b>SparkContext</b></p>\n",
       "\n",
       "            <p><a href=\"http://192.168.15.55:4040\">Spark UI</a></p>\n",
       "\n",
       "            <dl>\n",
       "              <dt>Version</dt>\n",
       "                <dd><code>v3.2.1</code></dd>\n",
       "              <dt>Master</dt>\n",
       "                <dd><code>local[2]</code></dd>\n",
       "              <dt>AppName</dt>\n",
       "                <dd><code>pyspark-shell</code></dd>\n",
       "            </dl>\n",
       "        </div>\n",
       "        "
      ],
      "text/plain": [
       "<SparkContext master=local[2] appName=pyspark-shell>"
      ]
     },
     "execution_count": 5,
     "metadata": {},
     "output_type": "execute_result"
    }
   ],
   "source": [
    "sc"
   ]
  },
  {
   "cell_type": "code",
   "execution_count": 6,
   "metadata": {},
   "outputs": [],
   "source": [
    "import warnings\n",
    "warnings.filterwarnings('ignore')\n",
    "\n",
    "from pyspark.sql import SparkSession\n",
    "\n",
    "\n",
    "spark = SparkSession.builder.master(\"local\").appName(\"MyApp\").getOrCreate()"
   ]
  },
  {
   "cell_type": "markdown",
   "metadata": {},
   "source": [
    "- Lendo o dataset utilizando o spark"
   ]
  },
  {
   "cell_type": "code",
   "execution_count": 7,
   "metadata": {},
   "outputs": [
    {
     "name": "stderr",
     "output_type": "stream",
     "text": [
      "                                                                                \r"
     ]
    },
    {
     "name": "stdout",
     "output_type": "stream",
     "text": [
      "+----+--------+--------+-----------+-------------+--------------+-----------+--------------+--------------+-------+--------------+\n",
      "|step|    type|  amount|   nameOrig|oldbalanceOrg|newbalanceOrig|   nameDest|oldbalanceDest|newbalanceDest|isFraud|isFlaggedFraud|\n",
      "+----+--------+--------+-----------+-------------+--------------+-----------+--------------+--------------+-------+--------------+\n",
      "|   1| PAYMENT| 9839.64|C1231006815|     170136.0|     160296.36|M1979787155|           0.0|           0.0|      0|             0|\n",
      "|   1| PAYMENT| 1864.28|C1666544295|      21249.0|      19384.72|M2044282225|           0.0|           0.0|      0|             0|\n",
      "|   1|TRANSFER|   181.0|C1305486145|        181.0|           0.0| C553264065|           0.0|           0.0|      1|             0|\n",
      "|   1|CASH_OUT|   181.0| C840083671|        181.0|           0.0|  C38997010|       21182.0|           0.0|      1|             0|\n",
      "|   1| PAYMENT|11668.14|C2048537720|      41554.0|      29885.86|M1230701703|           0.0|           0.0|      0|             0|\n",
      "+----+--------+--------+-----------+-------------+--------------+-----------+--------------+--------------+-------+--------------+\n",
      "only showing top 5 rows\n",
      "\n"
     ]
    }
   ],
   "source": [
    "path = '1. Dados/fraud_detection_dataset.csv'\n",
    "\n",
    "df = spark.read.csv(path,\n",
    "                    inferSchema=\"true\", #spark precisa disso para ler os tipos dos dados\n",
    "                    header=True #spark precisa disso para ler o nome das colunas\n",
    "                   ) \n",
    "df.show(5)"
   ]
  },
  {
   "cell_type": "markdown",
   "metadata": {},
   "source": [
    "- Analisando o tipo dos dados e quantidade de nulos, similar ao pandas.info("
   ]
  },
  {
   "cell_type": "code",
   "execution_count": 8,
   "metadata": {},
   "outputs": [
    {
     "name": "stdout",
     "output_type": "stream",
     "text": [
      "root\n",
      " |-- step: integer (nullable = true)\n",
      " |-- type: string (nullable = true)\n",
      " |-- amount: double (nullable = true)\n",
      " |-- nameOrig: string (nullable = true)\n",
      " |-- oldbalanceOrg: double (nullable = true)\n",
      " |-- newbalanceOrig: double (nullable = true)\n",
      " |-- nameDest: string (nullable = true)\n",
      " |-- oldbalanceDest: double (nullable = true)\n",
      " |-- newbalanceDest: double (nullable = true)\n",
      " |-- isFraud: integer (nullable = true)\n",
      " |-- isFlaggedFraud: integer (nullable = true)\n",
      "\n"
     ]
    }
   ],
   "source": [
    "df.printSchema()"
   ]
  },
  {
   "cell_type": "markdown",
   "metadata": {},
   "source": [
    "- Similar ao pandas.describe()"
   ]
  },
  {
   "cell_type": "code",
   "execution_count": 9,
   "metadata": {},
   "outputs": [
    {
     "name": "stderr",
     "output_type": "stream",
     "text": [
      "[Stage 5:>                                                          (0 + 1) / 1]\r"
     ]
    },
    {
     "name": "stdout",
     "output_type": "stream",
     "text": [
      "+-------+------------------+--------+-----------------+-----------+-----------------+------------------+-----------+------------------+------------------+--------------------+--------------------+\n",
      "|summary|              step|    type|           amount|   nameOrig|    oldbalanceOrg|    newbalanceOrig|   nameDest|    oldbalanceDest|    newbalanceDest|             isFraud|      isFlaggedFraud|\n",
      "+-------+------------------+--------+-----------------+-----------+-----------------+------------------+-----------+------------------+------------------+--------------------+--------------------+\n",
      "|  count|           6362620| 6362620|          6362620|    6362620|          6362620|           6362620|    6362620|           6362620|           6362620|             6362620|             6362620|\n",
      "|   mean|243.39724563151657|    null|179861.9035491287|       null|833883.1040744764| 855113.6685785812|       null|1100701.6665196533|1224996.3982019224|0.001290820448180152| 2.51468734577894E-6|\n",
      "| stddev|142.33197104913066|    null|603858.2314629209|       null|2888242.673037527|2924048.5029542595|       null|3399180.1129944525|3674128.9421196915|0.035904796801604424|0.001585774705736...|\n",
      "|    min|                 1| CASH_IN|              0.0|C1000000639|              0.0|               0.0|C1000004082|               0.0|               0.0|                   0|                   0|\n",
      "|    25%|               156|    null|         13392.65|       null|              0.0|               0.0|       null|               0.0|               0.0|                   0|                   0|\n",
      "|    50%|               239|    null|         74864.38|       null|          14205.0|               0.0|       null|         132710.96|         214605.81|                   0|                   0|\n",
      "|    75%|               335|    null|        208699.28|       null|         107301.0|         144212.66|       null|         943027.78|        1111611.51|                   0|                   0|\n",
      "|    max|               743|TRANSFER|    9.244551664E7| C999999784|    5.958504037E7|     4.958504037E7| M999999784|    3.5601588935E8|    3.5617927892E8|                   1|                   1|\n",
      "+-------+------------------+--------+-----------------+-----------+-----------------+------------------+-----------+------------------+------------------+--------------------+--------------------+\n",
      "\n"
     ]
    },
    {
     "name": "stderr",
     "output_type": "stream",
     "text": [
      "                                                                                \r"
     ]
    }
   ],
   "source": [
    "df.summary().show()"
   ]
  },
  {
   "cell_type": "markdown",
   "metadata": {},
   "source": [
    "- Agrupando por isFraud para ver os dados"
   ]
  },
  {
   "cell_type": "code",
   "execution_count": 10,
   "metadata": {},
   "outputs": [
    {
     "name": "stderr",
     "output_type": "stream",
     "text": [
      "[Stage 6:============================================>              (3 + 1) / 4]\r"
     ]
    },
    {
     "name": "stdout",
     "output_type": "stream",
     "text": [
      "+-------+------------------+------------------+------------------+-------------------+-------------------+-------------------+------------+--------------------+\n",
      "|isFraud|         avg(step)|       avg(amount)|avg(oldbalanceOrg)|avg(newbalanceOrig)|avg(oldbalanceDest)|avg(newbalanceDest)|avg(isFraud)| avg(isFlaggedFraud)|\n",
      "+-------+------------------+------------------+------------------+-------------------+-------------------+-------------------+------------+--------------------+\n",
      "|      1| 368.4138560818215|1467967.2991403872|1649667.6057116736| 192392.63183611355|   544249.619074638| 1279707.6171459882|         1.0|0.001948131011810...|\n",
      "|      0|243.23566306029815|178197.04172740472| 832828.7117272523|   855970.228108804| 1101420.8745693846| 1224925.6845631544|         0.0|                 0.0|\n",
      "+-------+------------------+------------------+------------------+-------------------+-------------------+-------------------+------------+--------------------+\n",
      "\n"
     ]
    },
    {
     "name": "stderr",
     "output_type": "stream",
     "text": [
      "                                                                                \r"
     ]
    }
   ],
   "source": [
    "df.groupBy('isFraud').avg().show()"
   ]
  },
  {
   "cell_type": "markdown",
   "metadata": {},
   "source": [
    "- Separando treino em teste (70/30)"
   ]
  },
  {
   "cell_type": "code",
   "execution_count": 13,
   "metadata": {},
   "outputs": [],
   "source": [
    "train_df,test_df = df.randomSplit([0.7,0.3])"
   ]
  },
  {
   "cell_type": "markdown",
   "metadata": {},
   "source": [
    "- contabilizando o ratio entre isFraud = 0 e isFraud = 1 para iniciar o Undersampling "
   ]
  },
  {
   "cell_type": "code",
   "execution_count": 14,
   "metadata": {},
   "outputs": [
    {
     "name": "stderr",
     "output_type": "stream",
     "text": [
      "[Stage 12:===========================================>              (3 + 1) / 4]\r"
     ]
    },
    {
     "name": "stdout",
     "output_type": "stream",
     "text": [
      "ratio: 773\n"
     ]
    },
    {
     "name": "stderr",
     "output_type": "stream",
     "text": [
      "                                                                                \r"
     ]
    }
   ],
   "source": [
    "major_df = train_df.filter(\"isFraud==0\")\n",
    "minor_df = train_df.filter(\"isFraud== 1\")\n",
    "ratio = int(major_df.count()/minor_df.count())\n",
    "print(\"ratio: {}\".format(ratio))"
   ]
  },
  {
   "cell_type": "markdown",
   "metadata": {},
   "source": [
    "- Criando um dataset treino com fraudes 50% positivas e 50% negativas"
   ]
  },
  {
   "cell_type": "code",
   "execution_count": 15,
   "metadata": {},
   "outputs": [
    {
     "name": "stderr",
     "output_type": "stream",
     "text": [
      "[Stage 15:>                                                         (0 + 1) / 1]\r"
     ]
    },
    {
     "name": "stdout",
     "output_type": "stream",
     "text": [
      "+----+--------+----------+-----------+-------------+--------------+-----------+--------------+--------------+-------+--------------+\n",
      "|step|    type|    amount|   nameOrig|oldbalanceOrg|newbalanceOrig|   nameDest|oldbalanceDest|newbalanceDest|isFraud|isFlaggedFraud|\n",
      "+----+--------+----------+-----------+-------------+--------------+-----------+--------------+--------------+-------+--------------+\n",
      "|   1| PAYMENT|    634.41|  C91220956|     18396.16|      17761.75| M999221400|           0.0|           0.0|      0|             0|\n",
      "|   1| PAYMENT|   6623.21| C380616082|       1036.0|           0.0| M744316958|           0.0|           0.0|      0|             0|\n",
      "|   2| PAYMENT|    8068.5|C1973281540|      19934.0|       11865.5|M1447678234|           0.0|           0.0|      0|             0|\n",
      "|   3| PAYMENT|  22415.68| C856937591|      31164.0|       8748.32| M741095751|           0.0|           0.0|      0|             0|\n",
      "|   3|TRANSFER| 521678.46| C954742840|          0.0|           0.0| C667346055| 1.026970081E7| 1.067090724E7|      0|             0|\n",
      "|   4|CASH_OUT| 190518.44| C107285100|          0.0|           0.0|C1167066016|     528114.25|      646875.4|      0|             0|\n",
      "|   4| PAYMENT|    975.55| C848187074|      49912.0|      48936.45|M2002190941|           0.0|           0.0|      0|             0|\n",
      "|   5| CASH_IN| 128336.28|C1971558037|   1518424.06|    1646760.35| C539058198|      147338.0|      19001.72|      0|             0|\n",
      "|   5|CASH_OUT| 190944.55|C1510967269|     13519.28|           0.0| C173783788|     227513.56|     418458.11|      0|             0|\n",
      "|   5| PAYMENT|   1288.03|C1131932964|       1086.0|           0.0|M2050024203|           0.0|           0.0|      0|             0|\n",
      "|   5| PAYMENT|   3967.71|C1429530353|      16825.0|      12857.29|M1282393063|           0.0|           0.0|      0|             0|\n",
      "|   5| PAYMENT|   5905.54|C1978869783|          0.0|           0.0| M598183031|           0.0|           0.0|      0|             0|\n",
      "|   7|CASH_OUT|  51649.08|C1597105101|          0.0|           0.0|C1865370526|       60607.0|      83658.63|      0|             0|\n",
      "|   7| PAYMENT|   3691.24| C495084745|      51422.0|      47730.76|M1877887067|           0.0|           0.0|      0|             0|\n",
      "|   7|TRANSFER|2063647.78| C364989629|          0.0|           0.0|  C40075281|     3263237.0|    7088323.13|      0|             0|\n",
      "|   8| CASH_IN|  93886.99|C2122950407|   8183587.82|    8277474.81|C2094777811|    4761699.48|    4984096.57|      0|             0|\n",
      "|   8| CASH_IN| 151240.36|C1023818098|       6708.0|     157948.36|C1875542814|     246465.26|       95224.9|      0|             0|\n",
      "|   8| CASH_IN| 197084.53|C1491292166|   8046529.47|     8243614.0|C2104652067|    4015883.34|    3437239.45|      0|             0|\n",
      "|   8| CASH_IN| 312635.25| C993210443|    8518525.3|    8831160.55| C265108079|    2454604.11|    4937135.42|      0|             0|\n",
      "|   8| CASH_IN| 363104.23|C1510969782|     359900.0|     723004.23|C2029310301|    1293220.82|    1315451.65|      0|             0|\n",
      "+----+--------+----------+-----------+-------------+--------------+-----------+--------------+--------------+-------+--------------+\n",
      "only showing top 20 rows\n",
      "\n"
     ]
    },
    {
     "name": "stderr",
     "output_type": "stream",
     "text": [
      "                                                                                \r"
     ]
    }
   ],
   "source": [
    "sampled_majority_df = major_df.sample(False, 1/ratio)\n",
    "combined_df_2 = sampled_majority_df.unionAll(minor_df)\n",
    "combined_df_2.show()"
   ]
  },
  {
   "cell_type": "markdown",
   "metadata": {},
   "source": [
    "- Visualizando a descrição do novo dataset"
   ]
  },
  {
   "cell_type": "code",
   "execution_count": 16,
   "metadata": {},
   "outputs": [
    {
     "name": "stderr",
     "output_type": "stream",
     "text": [
      "[Stage 16:==================================================>       (7 + 1) / 8]\r"
     ]
    },
    {
     "name": "stdout",
     "output_type": "stream",
     "text": [
      "+-------+------------------+--------+-----------------+-----------+------------------+------------------+-----------+------------------+------------------+------------------+--------------------+\n",
      "|summary|              step|    type|           amount|   nameOrig|     oldbalanceOrg|    newbalanceOrig|   nameDest|    oldbalanceDest|    newbalanceDest|           isFraud|      isFlaggedFraud|\n",
      "+-------+------------------+--------+-----------------+-----------+------------------+------------------+-----------+------------------+------------------+------------------+--------------------+\n",
      "|  count|             11541|   11541|            11541|      11541|             11541|             11541|      11541|             11541|             11541|             11541|               11541|\n",
      "|   mean| 305.6164110562343|    null| 830593.909984404|       null|1241769.1279663814| 523593.4608855386|       null| 790294.0138211594|1226811.8251633309| 0.498310371718222|0.001039771250324...|\n",
      "| stddev|193.94488730369514|    null|1874142.074988372|       null| 3201384.320524825|2474031.3384661996|       null|2933762.0198467453| 3456240.621958973|0.5000188083332922| 0.03223011222260656|\n",
      "|    min|                 1| CASH_IN|              0.0|C1000036340|               0.0|               0.0|C1000013769|               0.0|               0.0|                 0|                   0|\n",
      "|    25%|               160|    null|         37633.98|       null|           10932.0|               0.0|       null|               0.0|               0.0|                 0|                   0|\n",
      "|    50%|               283|    null|        172466.37|       null|          119443.3|               0.0|       null|               0.0|         123136.74|                 0|                   0|\n",
      "|    75%|               409|    null|        545039.18|       null|         802483.88|               0.0|       null|         493616.55|        1070377.64|                 1|                   0|\n",
      "|    max|               743|TRANSFER|    2.191971361E7|  C99979309|     5.731625505E7|     4.731625505E7| M999221400|    1.5870627924E8|    1.7647241991E8|                 1|                   1|\n",
      "+-------+------------------+--------+-----------------+-----------+------------------+------------------+-----------+------------------+------------------+------------------+--------------------+\n",
      "\n"
     ]
    },
    {
     "name": "stderr",
     "output_type": "stream",
     "text": [
      "                                                                                \r"
     ]
    }
   ],
   "source": [
    "combined_df_2.summary().show()"
   ]
  },
  {
   "cell_type": "markdown",
   "metadata": {},
   "source": [
    "- Criando um novo arquivo .csv com o undersampling dataset"
   ]
  },
  {
   "cell_type": "code",
   "execution_count": 17,
   "metadata": {},
   "outputs": [
    {
     "name": "stderr",
     "output_type": "stream",
     "text": [
      "                                                                                \r"
     ]
    }
   ],
   "source": [
    "combined_df_2.toPandas().to_csv('balanceado_train.csv')"
   ]
  },
  {
   "cell_type": "code",
   "execution_count": null,
   "metadata": {},
   "outputs": [],
   "source": [
    "test_df.toPandas().to_csv('balanceado_test.csv')"
   ]
  }
 ],
 "metadata": {
  "interpreter": {
   "hash": "478f9ad761964b2cb5811b9f3c1828b72ba63e04d1d5915e3cc30364ea46a9f4"
  },
  "kernelspec": {
   "display_name": "Python 3 (ipykernel)",
   "language": "python",
   "name": "python3"
  },
  "language_info": {
   "codemirror_mode": {
    "name": "ipython",
    "version": 3
   },
   "file_extension": ".py",
   "mimetype": "text/x-python",
   "name": "python",
   "nbconvert_exporter": "python",
   "pygments_lexer": "ipython3",
   "version": "3.9.7"
  }
 },
 "nbformat": 4,
 "nbformat_minor": 4
}
